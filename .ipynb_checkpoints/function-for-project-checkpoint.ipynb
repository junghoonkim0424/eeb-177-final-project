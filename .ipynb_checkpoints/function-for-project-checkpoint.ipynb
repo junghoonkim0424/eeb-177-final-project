{
 "cells": [
  {
   "cell_type": "code",
   "execution_count": 6,
   "metadata": {
    "collapsed": false
   },
   "outputs": [],
   "source": [
    "#This function is used when to make a graph group name of cockroaches vs measured time.\n",
    "#Time column in cockroach.csv file is recorded as seconds only,so arithmetic calculation used\n",
    "#to display minutes on the graph.\n",
    "#Another CSV created with two columns, group name and Time.\n",
    "import csv\n",
    "def convertunit(filename):\n",
    "    with open(filename,\"r\") as openfile:\n",
    "        readfile=openfile.readlines()[1:]\n",
    "        newdict={}\n",
    "        for timedata in readfile:\n",
    "            edit=timedata.split(\",\")\n",
    "            group=edit[0]\n",
    "            time=edit[7].replace(\"\\n\",\"\")\n",
    "            newdict[group]=time\n",
    "        \n",
    "        editedfile=open(\"/home/eeb177-student/Desktop/eeb-177/eeb-177-final-project/edited-cockroach.csv\",\"w\")\n",
    "        \n",
    "        for key,value in newdict.items():\n",
    "            minvalue=int(value) // 60  #double slash for no significant figure.\n",
    "            secvalue=int(value) % 60\n",
    "            newvalue = str(minvalue)+\"min\"+ str(secvalue) + \"sec\" #displaying minute\n",
    "            \n",
    "            newdict[key]=newvalue\n",
    "            \n",
    "            editedfile.write(str(key)+\",\"+str(newvalue)+\"\\n\")\n",
    "            \n",
    "        editedfile.close()\n",
    "\n",
    "   \n",
    "convertunit(\"/home/eeb177-student/Desktop/eeb-177/eeb-177-final-project/cockroach.csv\")"
   ]
  }
 ],
 "metadata": {
  "anaconda-cloud": {},
  "kernelspec": {
   "display_name": "Python [default]",
   "language": "python",
   "name": "python3"
  },
  "language_info": {
   "codemirror_mode": {
    "name": "ipython",
    "version": 3
   },
   "file_extension": ".py",
   "mimetype": "text/x-python",
   "name": "python",
   "nbconvert_exporter": "python",
   "pygments_lexer": "ipython3",
   "version": "3.5.2"
  }
 },
 "nbformat": 4,
 "nbformat_minor": 2
}
