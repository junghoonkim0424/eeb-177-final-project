{
 "cells": [
  {
   "cell_type": "markdown",
   "metadata": {},
   "source": [
    "## Circadian rhythm of Cockroaches and relevance to Blattodea."
   ]
  },
  {
   "cell_type": "markdown",
   "metadata": {},
   "source": [
    "## Introduction\n",
    "The German cockroaches are the most common species of cockroaches indoors.\n",
    "Previous studies indicate that cockroaches have varied sensitivity to different wavelengths of light,\n",
    "and that different wavelengths can have different effects on the circadian rhythm. \n",
    "Here we investigate how different wavelengths of light affects the amount of spontaneous locomotor activity in different time periods of the day.\n",
    "We entrained cockroaches to red, green, and blue light in a 12 hours light and 12 hours dark cycle \n",
    "and placed the cockroaches in a box with grids on its walls and counted the number of times the cockroaches cross the grid lines\n",
    "as a proxy to the amount of their locomotor activity.  "
   ]
  },
  {
   "cell_type": "markdown",
   "metadata": {},
   "source": [
    "Circadian rhythm affects how active we - and the much dreaded cockroaches -\n",
    "are at different times during the day. Circadian rhythm has also been shown to\n",
    "regulate learning and memory recall in cockroaches (Lubinski and Page 2016). \n",
    "At present, homemade anti-roach strategies are mainly based on chemical methods \n",
    "to repel or trap roaches. But can we manipulate light to mess up the circadian \n",
    "rhythm of the roaches so they do not evade our attack or recall memory as well\n",
    "as they should? If we can, then this may make other homemade methods more effective\n",
    ", but in order to do so, we need to understand the circadian rhythm of cockroaches. \n",
    "Different wavelengths of light have different effects on locomotor activities of cockroaches, \n",
    "with UV the most activating during transition from light to dark, blue green light most effective in entraining (Leppla et al. 1989), \n",
    "and red and gold without detectable effects (Koehler et al. 1987)."
   ]
  },
  {
   "cell_type": "markdown",
   "metadata": {},
   "source": [
    "## References.\n",
    "1.Koehler PG, Agee HR, Leppla NC, Patterson RS. 1987. Spectral sensitivity and behavioral response to light quality in the German cockroach (Dictyoptera: Blattellidae). Ann Entomol Soc Am. 820-822.\n",
    "\n",
    "2.Leppla NC, Koehler PG, Agee HR. 1989. Circadian rhythms of the German cockroach (Dictyoptera: Blattellidae): Locomotion in response to different photoperiods and wavelengths of light. J Insect Physiol. 35(1):63-66.\n",
    "\n",
    "3.Lubinski AJ, Page TL. 2016. The optic lobes regulate circadian rhythms of olfactory learning and memory in the cockroach. J Biol Rhythms. 31(2):161-169.\n"
   ]
  },
  {
   "cell_type": "code",
   "execution_count": 2,
   "metadata": {
    "collapsed": true
   },
   "outputs": [],
   "source": [
    "## Code"
   ]
  },
  {
   "cell_type": "code",
   "execution_count": null,
   "metadata": {
    "collapsed": true
   },
   "outputs": [],
   "source": [
    "• Latex or Markdown draft with expanded outline of project, expanded code, 1 or more inte-\n",
    "grated figures, and minimum 3 references due Friday, Week 9: March 10th (5%).\n",
    "    \n",
    "Latex or Markdown draft with\n",
    "expanded outline of project,\n",
    "expanded code,\n",
    "1 or more integrated figures,\n",
    "minimum 3 references"
   ]
  }
 ],
 "metadata": {
  "anaconda-cloud": {},
  "kernelspec": {
   "display_name": "Python [default]",
   "language": "python",
   "name": "python3"
  },
  "language_info": {
   "codemirror_mode": {
    "name": "ipython",
    "version": 3
   },
   "file_extension": ".py",
   "mimetype": "text/x-python",
   "name": "python",
   "nbconvert_exporter": "python",
   "pygments_lexer": "ipython3",
   "version": "3.5.2"
  }
 },
 "nbformat": 4,
 "nbformat_minor": 2
}
