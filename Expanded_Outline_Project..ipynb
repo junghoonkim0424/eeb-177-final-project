{
 "cells": [
  {
   "cell_type": "markdown",
   "metadata": {},
   "source": [
    "## Circadian rhythm of Blattodea relevance to the wavelength of the light."
   ]
  },
  {
   "cell_type": "markdown",
   "metadata": {},
   "source": [
    "## Introduction\n",
    "The German cockroaches are the most common species of cockroaches indoors.\n",
    "Previous studies indicate that cockroaches have varied sensitivity to different wavelengths of light,\n",
    "and that different wavelengths can have different effects on the circadian rhythm. \n",
    "Here we investigate how different wavelengths of light affects the amount of spontaneous locomotor activity in different time periods of the day.\n",
    "We entrained cockroaches to red, green, and blue light in a 12 hours light and 12 hours dark cycle \n",
    "and placed the cockroaches in a box with grids on its walls and counted the number of times the cockroaches cross the grid lines\n",
    "as a proxy to the amount of their locomotor activity.  "
   ]
  },
  {
   "cell_type": "markdown",
   "metadata": {},
   "source": [
    "Circadian rhythm affects how active we - and the much dreaded cockroaches -\n",
    "are at different times during the day. Circadian rhythm has also been shown to\n",
    "regulate learning and memory recall in cockroaches (Lubinski and Page 2016). \n",
    "At present, homemade anti-roach strategies are mainly based on chemical methods \n",
    "to repel or trap roaches. But can we manipulate light to mess up the circadian \n",
    "rhythm of the roaches so they do not evade our attack or recall memory as well\n",
    "as they should? If we can, then this may make other homemade methods more effective\n",
    ", but in order to do so, we need to understand the circadian rhythm of cockroaches. \n",
    "Different wavelengths of light have different effects on locomotor activities of cockroaches, \n",
    "with UV the most activating during transition from light to dark, blue green light most effective in entraining (Leppla et al. 1989), \n",
    "and red and gold without detectable effects (Koehler et al. 1987).\n",
    "\n",
    "Cockroaches appeared in Carboniferous period, some 320 to 400 million years ago(mya) while dinosaurs appeared in Jurassic period in 201.3 Mya. Other than research circadian rhythm of german cockroaches in current geologic period, It was needed to analyze data to see how blattodea in the other geologic period have survived in different environment relatd to the wavelength of the light."
   ]
  },
  {
   "cell_type": "markdown",
   "metadata": {},
   "source": [
    "## References.\n",
    "1.Koehler PG, Agee HR, Leppla NC, Patterson RS. 1987. Spectral sensitivity and behavioral response to light quality in the German cockroach (Dictyoptera: Blattellidae). Ann Entomol Soc Am. 820-822.\n",
    "\n",
    "2.Leppla NC, Koehler PG, Agee HR. 1989. Circadian rhythms of the German cockroach (Dictyoptera: Blattellidae): Locomotion in response to different photoperiods and wavelengths of light. J Insect Physiol. 35(1):63-66.\n",
    "\n",
    "3.Lubinski AJ, Page TL. 2016. The optic lobes regulate circadian rhythms of olfactory learning and memory in the cockroach. J Biol Rhythms. 31(2):161-169.\n"
   ]
  },
  {
   "cell_type": "markdown",
   "metadata": {},
   "source": [
    "#This function is used when to make a graph group name of cockroaches vs measured time from the on going research work.\n",
    "#Time column in cockroach.csv file is recorded as seconds only,so arithmetic calculation used\n",
    "#to display minutes on the graph.\n",
    "#Another CSV created with two columns, group name and Time.\n",
    "import csv\n",
    "def convertunit(filename): \n",
    "    with open(filename,\"r\") as openfile:#open the file and name it variable as \"openfile\"\n",
    "        readfile=openfile.readlines()[1:] # make it to read from the first line.\n",
    "        newdict={}\n",
    "        for timedata in readfile:\n",
    "            edit=timedata.split(\",\")  # using the for loop, because it is splitted by comma, make it as a list.\n",
    "            group=edit[0]     #first column\n",
    "            time=edit[7].replace(\"\\n\",\"\")       #8th column that data is stored.\n",
    "            newdict[group]=time             #stored group name and time as the dictionary named as \"newdict\"\n",
    "        \n",
    "        editedfile=open(\"/home/eeb177-student/Desktop/eeb-177/eeb-177-final-project/edited-cockroach.csv\",\"w\")\n",
    "        \n",
    "        for key,value in newdict.items():\n",
    "            minvalue=int(value) // 60  #double slash for no significant figure.\n",
    "            secvalue=int(value) % 60\n",
    "            newvalue = str(minvalue)+\"min\"+ str(secvalue) + \"sec\" #displaying minute\n",
    "            \n",
    "            newdict[key]=newvalue     # calculated and converted unit of time stored into new dictionary as values.\n",
    "\n",
    "            \n",
    "            editedfile.write(str(key)+\",\"+str(newvalue)+\"\\n\")  #write it into the file.\n",
    "            \n",
    "        editedfile.close()\n",
    "\n",
    "   \n",
    "convertunit(\"/home/eeb177-student/Desktop/eeb-177/eeb-177-final-project/cockroach.csv\")"
   ]
  },
  {
   "cell_type": "markdown",
   "metadata": {},
   "source": [
    "# PBDB data is needed to be formatted to make sure that it includes data only.\n",
    "# Order blattodea data file is found from PBDB, and removed first 19 lines to leave the data only.\n",
    "# tail -n+19 unix commands used and created new formatted csv file.\n",
    "\n",
    "infile= \"cleaned_Blattodea.csv\" #formatted PBDB file of Blattodea.\n",
    "with open(infile, \"r\") as ff:\n",
    "    Blattodea_recs=ff.readlines()[0:]\n",
    "    \n",
    "from collections import defaultdict\n",
    "species_ranges=defaultdict(list)\n",
    "\n",
    "# make a dictionary\n",
    "for line in Blattodea_recs:\n",
    "    species=line.split('\",\"')[5]\n",
    "    minage=line.split('\",\"')[10]\n",
    "    maxage=line.split('\",\"')[11]\n",
    "    mean_age=(float(minage) + float(maxage)) /2\n",
    "    \n",
    "     # add species as keys and ...\n",
    "    species_ranges[species].append(mean_age)\n",
    "    \n",
    "    \n",
    "output=open(\"Blattodea-ranges.csv\",\"w\")\n",
    "\n",
    "\n",
    "#get the oldest and youngest ages of fossils\n",
    "\n",
    "#for each species in species_ranges\n",
    "\n",
    "new_ranges=sorted(species_ranges.keys())\n",
    "\n",
    "\n",
    "\n",
    "for key in new_ranges:\n",
    "\n",
    "    ages=species_ranges[key]\n",
    "\n",
    "    minage=min(ages)\n",
    "\n",
    "    maxage=max(ages)\n",
    "\n",
    "    genus=key.split(\" \")[0]\n",
    "\n",
    "    species=key\n",
    "    \n",
    "\n",
    "    outline=\"{},{},{},{}\\n\".format(genus,species,minage,maxage)\n",
    "\n",
    "    \n",
    "\n",
    "    print(outline)\n",
    "\n",
    "    output.write(outline)"
   ]
  },
  {
   "cell_type": "code",
   "execution_count": 3,
   "metadata": {
    "collapsed": false
   },
   "outputs": [
    {
     "ename": "FileNotFoundError",
     "evalue": "[Errno 2] No such file or directory: 'Blattodea.png'",
     "output_type": "error",
     "traceback": [
      "\u001b[0;31m---------------------------------------------------------------------------\u001b[0m",
      "\u001b[0;31mFileNotFoundError\u001b[0m                         Traceback (most recent call last)",
      "\u001b[0;32m<ipython-input-3-a3afa70006bb>\u001b[0m in \u001b[0;36m<module>\u001b[0;34m()\u001b[0m\n\u001b[1;32m      3\u001b[0m \u001b[0;34m\u001b[0m\u001b[0m\n\u001b[1;32m      4\u001b[0m \u001b[0;32mfrom\u001b[0m \u001b[0mIPython\u001b[0m\u001b[0;34m.\u001b[0m\u001b[0mdisplay\u001b[0m \u001b[0;32mimport\u001b[0m \u001b[0mImage\u001b[0m\u001b[0;34m\u001b[0m\u001b[0m\n\u001b[0;32m----> 5\u001b[0;31m \u001b[0mImage\u001b[0m\u001b[0;34m(\u001b[0m\u001b[0mfilename\u001b[0m\u001b[0;34m=\u001b[0m\u001b[0;34m'Blattodea.png'\u001b[0m\u001b[0;34m)\u001b[0m\u001b[0;34m\u001b[0m\u001b[0m\n\u001b[0m",
      "\u001b[0;32m/home/eeb177-student/miniconda3/lib/python3.5/site-packages/IPython/core/display.py\u001b[0m in \u001b[0;36m__init__\u001b[0;34m(self, data, url, filename, format, embed, width, height, retina, unconfined, metadata)\u001b[0m\n\u001b[1;32m    755\u001b[0m         \u001b[0mself\u001b[0m\u001b[0;34m.\u001b[0m\u001b[0munconfined\u001b[0m \u001b[0;34m=\u001b[0m \u001b[0munconfined\u001b[0m\u001b[0;34m\u001b[0m\u001b[0m\n\u001b[1;32m    756\u001b[0m         \u001b[0mself\u001b[0m\u001b[0;34m.\u001b[0m\u001b[0mmetadata\u001b[0m \u001b[0;34m=\u001b[0m \u001b[0mmetadata\u001b[0m\u001b[0;34m\u001b[0m\u001b[0m\n\u001b[0;32m--> 757\u001b[0;31m         \u001b[0msuper\u001b[0m\u001b[0;34m(\u001b[0m\u001b[0mImage\u001b[0m\u001b[0;34m,\u001b[0m \u001b[0mself\u001b[0m\u001b[0;34m)\u001b[0m\u001b[0;34m.\u001b[0m\u001b[0m__init__\u001b[0m\u001b[0;34m(\u001b[0m\u001b[0mdata\u001b[0m\u001b[0;34m=\u001b[0m\u001b[0mdata\u001b[0m\u001b[0;34m,\u001b[0m \u001b[0murl\u001b[0m\u001b[0;34m=\u001b[0m\u001b[0murl\u001b[0m\u001b[0;34m,\u001b[0m \u001b[0mfilename\u001b[0m\u001b[0;34m=\u001b[0m\u001b[0mfilename\u001b[0m\u001b[0;34m)\u001b[0m\u001b[0;34m\u001b[0m\u001b[0m\n\u001b[0m\u001b[1;32m    758\u001b[0m \u001b[0;34m\u001b[0m\u001b[0m\n\u001b[1;32m    759\u001b[0m         \u001b[0;32mif\u001b[0m \u001b[0mretina\u001b[0m\u001b[0;34m:\u001b[0m\u001b[0;34m\u001b[0m\u001b[0m\n",
      "\u001b[0;32m/home/eeb177-student/miniconda3/lib/python3.5/site-packages/IPython/core/display.py\u001b[0m in \u001b[0;36m__init__\u001b[0;34m(self, data, url, filename)\u001b[0m\n\u001b[1;32m    392\u001b[0m         \u001b[0mself\u001b[0m\u001b[0;34m.\u001b[0m\u001b[0mfilename\u001b[0m \u001b[0;34m=\u001b[0m \u001b[0;32mNone\u001b[0m \u001b[0;32mif\u001b[0m \u001b[0mfilename\u001b[0m \u001b[0;32mis\u001b[0m \u001b[0;32mNone\u001b[0m \u001b[0;32melse\u001b[0m \u001b[0municode_type\u001b[0m\u001b[0;34m(\u001b[0m\u001b[0mfilename\u001b[0m\u001b[0;34m)\u001b[0m\u001b[0;34m\u001b[0m\u001b[0m\n\u001b[1;32m    393\u001b[0m \u001b[0;34m\u001b[0m\u001b[0m\n\u001b[0;32m--> 394\u001b[0;31m         \u001b[0mself\u001b[0m\u001b[0;34m.\u001b[0m\u001b[0mreload\u001b[0m\u001b[0;34m(\u001b[0m\u001b[0;34m)\u001b[0m\u001b[0;34m\u001b[0m\u001b[0m\n\u001b[0m\u001b[1;32m    395\u001b[0m         \u001b[0mself\u001b[0m\u001b[0;34m.\u001b[0m\u001b[0m_check_data\u001b[0m\u001b[0;34m(\u001b[0m\u001b[0;34m)\u001b[0m\u001b[0;34m\u001b[0m\u001b[0m\n\u001b[1;32m    396\u001b[0m \u001b[0;34m\u001b[0m\u001b[0m\n",
      "\u001b[0;32m/home/eeb177-student/miniconda3/lib/python3.5/site-packages/IPython/core/display.py\u001b[0m in \u001b[0;36mreload\u001b[0;34m(self)\u001b[0m\n\u001b[1;32m    777\u001b[0m         \u001b[0;34m\"\"\"Reload the raw data from file or URL.\"\"\"\u001b[0m\u001b[0;34m\u001b[0m\u001b[0m\n\u001b[1;32m    778\u001b[0m         \u001b[0;32mif\u001b[0m \u001b[0mself\u001b[0m\u001b[0;34m.\u001b[0m\u001b[0membed\u001b[0m\u001b[0;34m:\u001b[0m\u001b[0;34m\u001b[0m\u001b[0m\n\u001b[0;32m--> 779\u001b[0;31m             \u001b[0msuper\u001b[0m\u001b[0;34m(\u001b[0m\u001b[0mImage\u001b[0m\u001b[0;34m,\u001b[0m\u001b[0mself\u001b[0m\u001b[0;34m)\u001b[0m\u001b[0;34m.\u001b[0m\u001b[0mreload\u001b[0m\u001b[0;34m(\u001b[0m\u001b[0;34m)\u001b[0m\u001b[0;34m\u001b[0m\u001b[0m\n\u001b[0m\u001b[1;32m    780\u001b[0m             \u001b[0;32mif\u001b[0m \u001b[0mself\u001b[0m\u001b[0;34m.\u001b[0m\u001b[0mretina\u001b[0m\u001b[0;34m:\u001b[0m\u001b[0;34m\u001b[0m\u001b[0m\n\u001b[1;32m    781\u001b[0m                 \u001b[0mself\u001b[0m\u001b[0;34m.\u001b[0m\u001b[0m_retina_shape\u001b[0m\u001b[0;34m(\u001b[0m\u001b[0;34m)\u001b[0m\u001b[0;34m\u001b[0m\u001b[0m\n",
      "\u001b[0;32m/home/eeb177-student/miniconda3/lib/python3.5/site-packages/IPython/core/display.py\u001b[0m in \u001b[0;36mreload\u001b[0;34m(self)\u001b[0m\n\u001b[1;32m    410\u001b[0m         \u001b[0;34m\"\"\"Reload the raw data from file or URL.\"\"\"\u001b[0m\u001b[0;34m\u001b[0m\u001b[0m\n\u001b[1;32m    411\u001b[0m         \u001b[0;32mif\u001b[0m \u001b[0mself\u001b[0m\u001b[0;34m.\u001b[0m\u001b[0mfilename\u001b[0m \u001b[0;32mis\u001b[0m \u001b[0;32mnot\u001b[0m \u001b[0;32mNone\u001b[0m\u001b[0;34m:\u001b[0m\u001b[0;34m\u001b[0m\u001b[0m\n\u001b[0;32m--> 412\u001b[0;31m             \u001b[0;32mwith\u001b[0m \u001b[0mopen\u001b[0m\u001b[0;34m(\u001b[0m\u001b[0mself\u001b[0m\u001b[0;34m.\u001b[0m\u001b[0mfilename\u001b[0m\u001b[0;34m,\u001b[0m \u001b[0mself\u001b[0m\u001b[0;34m.\u001b[0m\u001b[0m_read_flags\u001b[0m\u001b[0;34m)\u001b[0m \u001b[0;32mas\u001b[0m \u001b[0mf\u001b[0m\u001b[0;34m:\u001b[0m\u001b[0;34m\u001b[0m\u001b[0m\n\u001b[0m\u001b[1;32m    413\u001b[0m                 \u001b[0mself\u001b[0m\u001b[0;34m.\u001b[0m\u001b[0mdata\u001b[0m \u001b[0;34m=\u001b[0m \u001b[0mf\u001b[0m\u001b[0;34m.\u001b[0m\u001b[0mread\u001b[0m\u001b[0;34m(\u001b[0m\u001b[0;34m)\u001b[0m\u001b[0;34m\u001b[0m\u001b[0m\n\u001b[1;32m    414\u001b[0m         \u001b[0;32melif\u001b[0m \u001b[0mself\u001b[0m\u001b[0;34m.\u001b[0m\u001b[0murl\u001b[0m \u001b[0;32mis\u001b[0m \u001b[0;32mnot\u001b[0m \u001b[0;32mNone\u001b[0m\u001b[0;34m:\u001b[0m\u001b[0;34m\u001b[0m\u001b[0m\n",
      "\u001b[0;31mFileNotFoundError\u001b[0m: [Errno 2] No such file or directory: 'Blattodea.png'"
     ]
    }
   ],
   "source": [
    "#using ggplot2 on Rstudio program, Fossile occurence of each species graph is generated to see\n",
    "#the age of each species under order Blattodea. \n",
    "\n",
    "from IPython.display import Image\n",
    "Image(filename='Blattodea.png')"
   ]
  },
  {
   "cell_type": "code",
   "execution_count": null,
   "metadata": {
    "collapsed": true
   },
   "outputs": [],
   "source": []
  }
 ],
 "metadata": {
  "anaconda-cloud": {},
  "kernelspec": {
   "display_name": "Python [default]",
   "language": "python",
   "name": "python3"
  },
  "language_info": {
   "codemirror_mode": {
    "name": "ipython",
    "version": 3
   },
   "file_extension": ".py",
   "mimetype": "text/x-python",
   "name": "python",
   "nbconvert_exporter": "python",
   "pygments_lexer": "ipython3",
   "version": "3.5.2"
  }
 },
 "nbformat": 4,
 "nbformat_minor": 2
}
