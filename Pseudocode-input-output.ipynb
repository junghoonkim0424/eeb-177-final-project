{
 "cells": [
  {
   "cell_type": "markdown",
   "metadata": {},
   "source": [
    "## Pseudocode-input-output\n",
    "\n",
    "*** Convert Celcius to Farenheit of temperature of cockroach container.***\n",
    "* Used in case of need a farenheit data for other calculations*\n",
    "\n",
    "celcius= Gets input of temeperature inside of cockroach container.\n",
    "Farenheit= This variable gets celcius value and calculate into farenheit values. store into Farenheit variable which is calculated that (celcius value-32)*(5/9). Arithmetic expression would be enough.\n",
    "Average= calculate average 4 different farenheit temperatures of containers.\n",
    "values are given from Farenheit variable values."
   ]
  },
  {
   "cell_type": "markdown",
   "metadata": {},
   "source": [
    "*** Measure the time of movement of cockroaches.***\n",
    "*Measure the time from starting point to endpoint(sweet spot) to measure circadian rhythm*\n",
    "\n",
    "6 different cockroaches are in 4 different experiment group each. Total 24 data collected.\n",
    "\n",
    "Make two lists. The one name as 'cockroaches' and 'time'.\n",
    "Then cockroaches are keys and time is values dictionary.\n",
    "cockroaches = empty list.\n",
    "cockroaches.append which experiment group and which color filter it is used as name.\n",
    "simply as B1m(B stands for blue, 1 is just numbered, and m means male).\n",
    "\n",
    "After done with cockroaches, append time for each cockroaches.\n",
    "\n",
    "converttime= input the time with minutes and seconds. I will use second unit only. so minute should be converted to seconds. time variable gets seconds only therefore. It converts minutes to seconds.\n",
    "\n",
    "time.append *is measured time in second.*\n",
    "\n",
    "zip(cockroaches and time lists are zipped as one dictionary.).\n",
    "\n",
    "timedictionary= zipped dictionary data stored in it with new variable name.\n",
    "\n",
    "sorted_timedictionary= sort dictionary not by keys but values.\n",
    "\n",
    "print out data of both keys and values in sorted_timedictionary.\n",
    "\n",
    "\n",
    "\n"
   ]
  },
  {
   "cell_type": "markdown",
   "metadata": {},
   "source": [
    "*** Sort light intensity values ***\n",
    "4 different experiment groups are exposed to the different colored lights then\n",
    "it means light intensities are not identical. So I need a data of light intensities\n",
    "of cockroaches in each group. LUX meter used, so unit doesn't need to be converted, and\n",
    "keep values wiht unit lux(lx).\n",
    "\n",
    "*I won't create new lists of roaches, but reuse the cockroach list i already made as key.\n",
    "create list for light intensities.*\n",
    "\n",
    "lightintensity= create empty list.\n",
    "lightintensity.append *input light intensity values of each cockroaches.*\n",
    "\n",
    "*call cockroaches list and make it pair with lightintenisty list*\n",
    "\n",
    "lightintensity. use 'items' command to pair key and value pairs.\n",
    "\n",
    "print out the paired values."
   ]
  }
 ],
 "metadata": {
  "anaconda-cloud": {},
  "kernelspec": {
   "display_name": "Python [default]",
   "language": "python",
   "name": "python3"
  },
  "language_info": {
   "codemirror_mode": {
    "name": "ipython",
    "version": 3
   },
   "file_extension": ".py",
   "mimetype": "text/x-python",
   "name": "python",
   "nbconvert_exporter": "python",
   "pygments_lexer": "ipython3",
   "version": "3.5.2"
  }
 },
 "nbformat": 4,
 "nbformat_minor": 2
}
