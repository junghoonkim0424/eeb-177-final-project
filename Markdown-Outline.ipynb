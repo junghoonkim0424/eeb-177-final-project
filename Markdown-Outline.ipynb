{
 "cells": [
  {
   "cell_type": "markdown",
   "metadata": {},
   "source": [
    "This is to analyze data of ongoing experiment in animal physiology lab.\n",
    "From the experiment, I collected time,humidity,temperature, distances cockroaches moved while recording a video,\n",
    "light intensity, wavelength of the light and status from 24 cockroaches of the same species.\n",
    "\n",
    "Out of the data, I need to show graphical and sorted data that how the different wavelength light affects on\n",
    "the circadian rhythm.\n",
    "\n",
    "The data is recorded via google spreadsheet, and it is convereted to csv file before analyze it.\n",
    "This is raw data that need unix shell command to take out columns i want to have so that it is clear to make a \n",
    "historgram or any other further works.\n",
    "\n",
    "\n",
    "\n",
    "\n",
    "include pseudocode for portions you need to write\n",
    "placeholders for figures\n",
    "in ipython or Rmarkdown\n",
    "any code that you do include should be well­commented\n",
    "include references in the intro about evolutionary history\n",
    "or your research topic"
   ]
  },
  {
   "cell_type": "markdown",
   "metadata": {},
   "source": [
    "**Remained coding is create the graph of average time vs different experimental group.**\n",
    "\n",
    "for calculate in all group\n",
    "    extract time data of one group\n",
    "    calculate average measured time.\n",
    "    store it in to the list.\n",
    "    do it over again for three other groups.\n",
    "\n",
    "\n"
   ]
  },
  {
   "cell_type": "code",
   "execution_count": null,
   "metadata": {
    "collapsed": true
   },
   "outputs": [],
   "source": []
  }
 ],
 "metadata": {
  "anaconda-cloud": {},
  "kernelspec": {
   "display_name": "Python [default]",
   "language": "python",
   "name": "python3"
  },
  "language_info": {
   "codemirror_mode": {
    "name": "ipython",
    "version": 3
   },
   "file_extension": ".py",
   "mimetype": "text/x-python",
   "name": "python",
   "nbconvert_exporter": "python",
   "pygments_lexer": "ipython3",
   "version": "3.5.2"
  }
 },
 "nbformat": 4,
 "nbformat_minor": 2
}
