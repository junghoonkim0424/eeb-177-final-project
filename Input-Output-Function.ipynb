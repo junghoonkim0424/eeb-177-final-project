{
 "cells": [
  {
   "cell_type": "markdown",
   "metadata": {},
   "source": [
    "1. First function is calculate the average value of the column.\n",
    "From column 6 through 9 are the data set,Then fucntion ask which column I want\n",
    "the average value and then output the dictionary and average value of the column.\n",
    "It's practical when I want to find the average value of data set quickly."
   ]
  },
  {
   "cell_type": "code",
   "execution_count": 33,
   "metadata": {
    "collapsed": false
   },
   "outputs": [
    {
     "name": "stdout",
     "output_type": "stream",
     "text": [
      "which column ?? 4\n",
      "This column has no data set. Try again \n",
      "which column ?? 3\n",
      "This column has no data set. Try again \n",
      "which column ?? 5\n",
      "This column has no data set. Try again \n",
      "which column ?? 6\n",
      "{'Control4': '0', 'Blue6': '10', 'Blue5': '5', 'Blue2': '0', 'Control1': '23', 'Green4': '0', 'Control6': '23', 'Blue1': '13', 'Control2': '11', 'Blue4': '0', 'Red5': '13', 'Red3': '19', 'Blue3': '4', 'Red6': '0', 'Control3': '0', 'Red1': '17', 'Green5': '0', 'Red2': '24', 'Green2': '11', 'Control5': '0', 'Red4': '0', 'Green1': '21', 'Green3': '30', 'Green6': '0'}\n",
      "average value of column 5 is 9\n"
     ]
    }
   ],
   "source": [
    "import csv\n",
    "def AVGcalculator(file):\n",
    "    #create dictionary for the column I want average.\n",
    "    with open(file,\"r\") as openfile:\n",
    "        readfile= openfile.readlines()[1:]\n",
    "        newdict={}\n",
    "        while True:\n",
    "            targetcolumn= eval(input(\"which column ?? \"))\n",
    "            targetcolumn -= 1\n",
    "            if targetcolumn <=4:\n",
    "                print(\"This column has no data set. Try again \")\n",
    "            else:\n",
    "                break\n",
    "\n",
    "        for data in readfile:\n",
    "            edit=data.split(\",\")\n",
    "            group=edit[0]\n",
    "            column=edit[targetcolumn].replace(\"\\n\",\"\")\n",
    "            newdict[group]=column\n",
    "        \n",
    "        print (newdict) \n",
    "        \n",
    "        subtotal=0\n",
    "        avgvalue=0\n",
    "        for key,value in newdict.items():\n",
    "            subtotal += int(value)\n",
    "            \n",
    "        avgvalue= subtotal/ 24\n",
    "        \n",
    "       \n",
    "    print(\"average value of column \"+ str(targetcolumn) + \" is \" + str(round(avgvalue)))\n",
    "\n",
    "        \n",
    "AVGcalculator(\"/home/eeb177-student/Desktop/eeb-177/eeb-177-final-project/cockroach.csv\")"
   ]
  },
  {
   "cell_type": "markdown",
   "metadata": {},
   "source": [
    "2. This function, like convert time data function, I collected gridlines data.\n",
    "Experiment is that observe cockroaches in the fish tank covered with gridlines paper for 15mins. Then number of gridlines they crossed is collected.\n",
    "Each grid line is 1cm . so I will be using calculation function to display meter and store it into formmatted data csv file. This is to see how cockroaches are active compared to other experimental group"
   ]
  },
  {
   "cell_type": "code",
   "execution_count": 47,
   "metadata": {
    "collapsed": false
   },
   "outputs": [
    {
     "name": "stdout",
     "output_type": "stream",
     "text": [
      "Enter column of grid line: 8\n"
     ]
    }
   ],
   "source": [
    "import csv\n",
    "def convetgridline(filename):\n",
    "    with open(filename,\"r\") as openfile:\n",
    "        readfile=openfile.readlines()[1:]\n",
    "        newdict={}\n",
    "        gridcolumn=eval(input(\"Enter column of grid line: \"))\n",
    "        gridcolumn = gridcolumn -1\n",
    "        for timedata in readfile:\n",
    "            edit=timedata.split(\",\")\n",
    "            group=edit[0]\n",
    "            time=edit[gridcolumn].replace(\"\\n\",\"\")\n",
    "            newdict[group]=time\n",
    "        \n",
    "        editedfile=open(\"/home/eeb177-student/Desktop/eeb-177/eeb-177-final-project/Gridline-cockroach.csv\",\"w\")\n",
    "        \n",
    "        for key,value in newdict.items():\n",
    "            mvalue=int(value) // 100  #double slash for no significant figure.\n",
    "            cmvalue=int(value) % 100\n",
    "            newvalue = str(mvalue)+\"meter\"+ str(cmvalue) + \"cm\" #displaying minute\n",
    "            \n",
    "            newdict[key]=newvalue\n",
    "            \n",
    "            editedfile.write(str(key)+\",\"+str(newvalue)+\"\\n\")\n",
    "            \n",
    "        editedfile.close()\n",
    "        \n",
    "convetgridline(\"/home/eeb177-student/Desktop/eeb-177/eeb-177-final-project/cockroach.csv\")"
   ]
  }
 ],
 "metadata": {
  "anaconda-cloud": {},
  "kernelspec": {
   "display_name": "Python [default]",
   "language": "python",
   "name": "python3"
  },
  "language_info": {
   "codemirror_mode": {
    "name": "ipython",
    "version": 3
   },
   "file_extension": ".py",
   "mimetype": "text/x-python",
   "name": "python",
   "nbconvert_exporter": "python",
   "pygments_lexer": "ipython3",
   "version": "3.5.2"
  }
 },
 "nbformat": 4,
 "nbformat_minor": 2
}
