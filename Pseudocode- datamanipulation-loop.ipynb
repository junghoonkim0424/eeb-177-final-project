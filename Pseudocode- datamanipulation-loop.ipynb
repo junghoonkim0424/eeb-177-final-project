{
 "cells": [
  {
   "cell_type": "markdown",
   "metadata": {},
   "source": [
    "## Data manipulation over a loop.\n",
    "*** update data using loops ***\n",
    "There are two data sets i wanto convert and update the values in the list.\n",
    "\n",
    "*update temperature data*\n",
    "'temperature' is a list of temperature.\n",
    "forloop gets data from the first index(temperature[0])\n",
    "    newtemp= gets the converted value from celcius to farenheit.\n",
    "    append to the new empty list 'ftemp'\n",
    "\n",
    "*The reason that create another list for farenheit values is to keep celcius\n",
    "data of cockroaches*\n",
    "\n",
    "After for loop, zip the ftemp list with cockroach list to create\n",
    "new dictionary.\n",
    "\n",
    "*update time data*\n",
    "using a for loop and if statement, It will manipulate measured time data of each cockroaches.\n",
    "and completely replace with the original data in the dictionary since i won't keep 'minute' unit in my \n",
    "data set.\n",
    "\n",
    "for measured time data from the first index.\n",
    "    if measured time is less than minute,\n",
    "        store the original value to the index. nothing changed.\n",
    "    else convert minute to seconds and add up to the remaining second value.\n",
    "         and then store the data into the index.\n",
    "\n",
    "*by combine for and if-else statement, I am able to see which data should be changed*\n",
    "\n",
    "\n",
    "\n",
    "*find average value of light intensity using while loop*\n",
    "\n",
    "light intensities value are stored in the list, and average value is need whether if it affect\n",
    "the temperature and circadian rhythm of cockroaches.\n",
    "\n",
    "while It shouldn't be infinite loop or less than 24 loop. have to be 24 loop exactly.\n",
    "    sum= initial value is 0. and add up the light intensity value of each index.\n",
    "\n",
    "After the loop. Sum result avaerage value divided by 24. unit is lux(lb).\n",
    "    \n"
   ]
  }
 ],
 "metadata": {
  "anaconda-cloud": {},
  "kernelspec": {
   "display_name": "Python [default]",
   "language": "python",
   "name": "python3"
  },
  "language_info": {
   "codemirror_mode": {
    "name": "ipython",
    "version": 3
   },
   "file_extension": ".py",
   "mimetype": "text/x-python",
   "name": "python",
   "nbconvert_exporter": "python",
   "pygments_lexer": "ipython3",
   "version": "3.5.2"
  }
 },
 "nbformat": 4,
 "nbformat_minor": 2
}
